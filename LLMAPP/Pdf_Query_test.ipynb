{
 "cells": [
  {
   "cell_type": "code",
   "execution_count": null,
   "id": "51b547a4-d90e-461c-9963-42271da8a14a",
   "metadata": {},
   "outputs": [],
   "source": [
    "!pip install -q cassio datasets langchain openai tiktoken PyPDF2"
   ]
  },
  {
   "cell_type": "code",
   "execution_count": null,
   "id": "13f2df16-8af9-40d7-a2dc-47e27af477a4",
   "metadata": {},
   "outputs": [],
   "source": [
    "from datasets import load_dataset  \n",
    "import cassio  \n",
    "from langchain.llms import OpenAI  \n",
    "from langchain.embeddings import OpenAIEmbeddings  \n",
    "from langchain.vectorstores.cassandra import Cassandra  \n",
    "from langchain.indexes.vectorstore import VectorStoreIndexWrapper  "
   ]
  },
  {
   "cell_type": "code",
   "execution_count": null,
   "id": "f217550b-843d-4bd9-8899-0f62303a1599",
   "metadata": {},
   "outputs": [],
   "source": [
    "!pip install PyPDF2"
   ]
  },
  {
   "cell_type": "code",
   "execution_count": null,
   "id": "8907b451-03e0-4ae4-9c58-53ba6db7a40a",
   "metadata": {},
   "outputs": [],
   "source": [
    "from PyPDF2 import PdfReader"
   ]
  },
  {
   "cell_type": "code",
   "execution_count": null,
   "id": "ab1bb076-bff3-4acf-9919-d1f18bd04b65",
   "metadata": {},
   "outputs": [],
   "source": [
    "!pip install --upgrade astrapy"
   ]
  },
  {
   "cell_type": "code",
   "execution_count": null,
   "id": "d0e437bd-27cf-48db-8c5b-90abe0e42a39",
   "metadata": {},
   "outputs": [],
   "source": [
    "from astrapy.db import AstraDB\n",
    "db = AstraDB(\n",
    "  token=\"\",\n",
    "  api_endpoint=\"\")\n",
    "\n",
    "print(f\"Connected to Astra DB: {db.get_collections()}\")"
   ]
  },
  {
   "cell_type": "code",
   "execution_count": null,
   "id": "aac6bdc5-6735-4da7-9844-682caf3ca548",
   "metadata": {},
   "outputs": [],
   "source": [
    "ASTRA_DB_APPLICATION_TOKEN = \"\"\n",
    "ASTRA_DB_ID = \"\"\n",
    "OPENAI_API_KEY = \"\""
   ]
  },
  {
   "cell_type": "code",
   "execution_count": null,
   "id": "11739334-b394-439e-95a1-18040d56c4e2",
   "metadata": {},
   "outputs": [],
   "source": [
    "pdfreader = PdfReader('documents/budget_speech.pdf')"
   ]
  },
  {
   "cell_type": "code",
   "execution_count": null,
   "id": "2ada121f-0ab8-4b0b-8bf2-3480fb657015",
   "metadata": {},
   "outputs": [],
   "source": [
    "from typing_extensions import Concatenate\n",
    "raw_text = ''\n",
    "for i, page in enumerate(pdfreader.pages):\n",
    "    content = page.extract_text()\n",
    "    if content:\n",
    "        raw_text += content"
   ]
  },
  {
   "cell_type": "code",
   "execution_count": null,
   "id": "6d66db83-b7a8-4dd4-90e1-d20fa0d0c856",
   "metadata": {},
   "outputs": [],
   "source": [
    "raw_text"
   ]
  },
  {
   "cell_type": "code",
   "execution_count": null,
   "id": "f3320326-b7cf-4205-9fda-1f8ed19e4926",
   "metadata": {},
   "outputs": [],
   "source": [
    "cassio.init(token=ASTRA_DB_APPLICATION_TOKEN, database_id=ASTRA_DB_ID)"
   ]
  },
  {
   "cell_type": "code",
   "execution_count": null,
   "id": "f46d3d47-885c-4768-9ca8-336adef85976",
   "metadata": {},
   "outputs": [],
   "source": [
    "llm = OpenAI(openai_api_key=OPENAI_API_KEY)\n",
    "embedding = OpenAIEmbeddings(openai_api_key=OPENAI_API_KEY)"
   ]
  },
  {
   "cell_type": "code",
   "execution_count": null,
   "id": "bb39498c-4c70-4ae8-bdfb-8e3e33b3b01c",
   "metadata": {},
   "outputs": [],
   "source": [
    "astra_vector_store = Cassandra(\n",
    "    embedding=embedding,\n",
    "    table_name=\"\",\n",
    "    session=None,\n",
    "    keyspace=None,\n",
    ")"
   ]
  },
  {
   "cell_type": "code",
   "execution_count": null,
   "id": "225604ba-0436-473e-ad77-b4013745abea",
   "metadata": {},
   "outputs": [],
   "source": [
    "from langchain.text_splitter import CharacterTextSplitter\n",
    "text_splitter = CharacterTextSplitter(\n",
    "    separator = \"\\n\",\n",
    "    chunk_size = 800,\n",
    "    chunk_overlap  = 200,\n",
    "    length_function = len,\n",
    ")\n",
    "texts = text_splitter.split_text(raw_text)"
   ]
  },
  {
   "cell_type": "code",
   "execution_count": null,
   "id": "652d334f-3ccc-4198-8b01-540c6320cabe",
   "metadata": {},
   "outputs": [],
   "source": [
    "texts[:50]"
   ]
  },
  {
   "cell_type": "code",
   "execution_count": null,
   "id": "0c4d4bcd-9990-4301-8ded-ede1dabca892",
   "metadata": {},
   "outputs": [],
   "source": [
    "\n",
    "astra_vector_store.add_texts(texts[:50])\n",
    "\n",
    "print(\"Inserted %i headline.\" % len(texts[:50]))\n",
    "\n",
    "astra_vector_index = VectorStoreIndexWrapper(vectorstore=astra_vector_store)"
   ]
  },
  {
   "cell_type": "code",
   "execution_count": null,
   "id": "e5b3ebd8-8326-4808-abda-488dddbdb727",
   "metadata": {},
   "outputs": [],
   "source": [
    "first_question = True\n",
    "while True:\n",
    "    if first_question:\n",
    "        query_text = input(\"\\n Enter your question(or type 'quit' to exit): \").strip()\n",
    "    else:\n",
    "        query_text = input"
   ]
  },
  {
   "cell_type": "code",
   "execution_count": null,
   "id": "000f9139-9252-41a7-95df-220a00e390c9",
   "metadata": {},
   "outputs": [],
   "source": [
    "first_question = True\n",
    "while True:\n",
    "    if first_question:\n",
    "        query_text = input(\"\\nEnter your question (or type 'quit' to exit): \").strip()\n",
    "    else:\n",
    "        query_text = input(\"\\nWhat is your next question (or type 'quit' to exit): \").strip()\n",
    "\n",
    "    if query_text.lower() == \"quit\":\n",
    "        break\n",
    "\n",
    "    if query_text == \"\":\n",
    "        continue\n",
    "\n",
    "    first_question = False\n",
    "\n",
    "    print(\"\\nQUESTION: \\\"%s\\\"\" % query_text)\n",
    "    answer = astra_vector_index.query(query_text, llm=llm).strip()\n",
    "    print(\"ANSWER FOR : \\\"%s\\\"\\n\" % answer)\n",
    "\n",
    "    print(\"SHOWING THE FIRST DOCUMENTS BY RELEVANCE:\")\n",
    "    for doc, score in astra_vector_store.similarity_search_with_score(query_text, k=4):\n",
    "        print(\"    [%0.4f] \\\"%s ...\\\"\" % (score, doc.page_content[:84]))"
   ]
  }
 ],
 "metadata": {
  "kernelspec": {
   "display_name": "LLM-Test",
   "language": "python",
   "name": "llm-test"
  },
  "language_info": {
   "codemirror_mode": {
    "name": "ipython",
    "version": 3
   },
   "file_extension": ".py",
   "mimetype": "text/x-python",
   "name": "python",
   "nbconvert_exporter": "python",
   "pygments_lexer": "ipython3",
   "version": "3.11.3"
  }
 },
 "nbformat": 4,
 "nbformat_minor": 5
}
