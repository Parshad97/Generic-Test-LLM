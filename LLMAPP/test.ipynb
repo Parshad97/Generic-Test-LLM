{
 "cells": [
  {
   "cell_type": "code",
   "execution_count": null,
   "id": "f72a3106-a976-4092-8477-baba2003ca1e",
   "metadata": {},
   "outputs": [],
   "source": [
    "import openai\n",
    "import langchain\n",
    "import pinecone\n",
    "from langchain.document_loaders import PyPDFDirectoryLoader\n",
    "from langchain.text_splitter import RecursiveCharacterTextSplitter\n",
    "from langchain.embeddings.openai import OpenAIEmbeddings\n",
    "from langchain.vectorstores import Pinecone\n",
    "from langchain.llms import OpenAI"
   ]
  },
  {
   "cell_type": "code",
   "execution_count": null,
   "id": "1ce2334b-c369-4d59-8a1b-19148c54c799",
   "metadata": {},
   "outputs": [],
   "source": [
    "from dotenv import load_dotenv\n",
    "load_dotenv()"
   ]
  },
  {
   "cell_type": "code",
   "execution_count": null,
   "id": "8f273e7a-740f-4257-af06-ff9e416cb041",
   "metadata": {},
   "outputs": [],
   "source": [
    "import os "
   ]
  },
  {
   "cell_type": "code",
   "execution_count": null,
   "id": "d572df45-2a68-417a-81b5-36fc74427233",
   "metadata": {},
   "outputs": [],
   "source": [
    "def read_doc(directory):\n",
    "    file_loader=PyPDFDirectoryLoader(directory)\n",
    "    documents=file_loader.load()\n",
    "    return documents"
   ]
  },
  {
   "cell_type": "code",
   "execution_count": null,
   "id": "ab678bce-5241-4d14-ac47-c36ae4d5f9b4",
   "metadata": {},
   "outputs": [],
   "source": [
    "doc=read_doc('documents/')\n",
    "len(doc)"
   ]
  },
  {
   "cell_type": "code",
   "execution_count": null,
   "id": "fc102b15-5fb7-4d57-8bdc-5b6f56d15e78",
   "metadata": {},
   "outputs": [],
   "source": [
    "# Dividing the documents into chunks\n",
    "def chunk_data(docs,chunk_size=800,chunk_overlap=50):\n",
    "    text_splitter=RecursiveCharacterTextSplitter(chunk_size=chunk_size,chunk_overlap=chunk_overlap)\n",
    "    doc=text_splitter.split_documents(docs)\n",
    "    return docs"
   ]
  },
  {
   "cell_type": "code",
   "execution_count": null,
   "id": "2a8d6403-219b-42d0-884d-2c61e628ad13",
   "metadata": {},
   "outputs": [],
   "source": [
    "documents=chunk_data(docs=doc)\n",
    "len(documents)\n",
    "documents"
   ]
  },
  {
   "cell_type": "code",
   "execution_count": null,
   "id": "1477e7fa-3db2-4137-9718-58a32d3610c8",
   "metadata": {},
   "outputs": [],
   "source": [
    "embeddings=OpenAIEmbeddings(api_key=os.environ['OPENAI_API_KEY'])\n",
    "embeddings"
   ]
  },
  {
   "cell_type": "code",
   "execution_count": null,
   "id": "3ced0069-84ca-45d2-9900-31ae31f17ec0",
   "metadata": {},
   "outputs": [],
   "source": [
    "vectors=embeddings.embed_query(\"How are you?\")\n",
    "len(vectors)"
   ]
  },
  {
   "cell_type": "code",
   "execution_count": null,
   "id": "72b0908e-fd74-45a2-bae7-c1494ce2e4db",
   "metadata": {},
   "outputs": [],
   "source": [
    "import os\n",
    "from pinecone import Pinecone, ServerlessSpec\n",
    "\n",
    "pc = Pinecone(\n",
    "    api_key=\"\",\n",
    "    environment=\"\"\n",
    ")\n",
    "\n",
    "index_name = \"\"\n",
    "\n",
    "# Now do stuff\n",
    "if index_name not in pc.list_indexes().names():\n",
    "    pc.create_index(\n",
    "        name=index_name,\n",
    "        dimension=1536,\n",
    "        metric='cosine',\n",
    "        spec=ServerlessSpec(\n",
    "            cloud='gcp',\n",
    "            region='us-central-1'\n",
    "        )\n",
    "    )"
   ]
  },
  {
   "cell_type": "code",
   "execution_count": null,
   "id": "c6462bf6-3bd8-4161-9dc4-89ed4eee4fdc",
   "metadata": {},
   "outputs": [],
   "source": [
    "!pip install pinecone-client"
   ]
  },
  {
   "cell_type": "code",
   "execution_count": null,
   "id": "3df9921e-8029-4b7d-a9b4-5075c0ba0b9a",
   "metadata": {},
   "outputs": [],
   "source": [
    "import pinecone\n",
    "import os  # Importing os module for accessing environment variables\n",
    "\n",
    "# Create an instance of the Pinecone class\n",
    "pc = pinecone.Pinecone(api_key=\"\")\n",
    "\n",
    "# Define your documents and embeddings\n",
    "docs = [...]  # List of documents\n",
    "embeddings = [...]  # List of corresponding embeddings\n",
    "\n",
    "# Create an index\n",
    "index_name = ''\n",
    "if index_name not in pc.list_indexes().names():\n",
    "    pc.create_index(\n",
    "        name=index_name, \n",
    "        dimension=your_dimension_value,  # Replace with your actual dimension value\n",
    "        metric='cosine',\n",
    "        spec=pinecone.ServerlessSpec(\n",
    "            cloud='',  # Replace with your cloud provider if different\n",
    "            environment=''  # Replace with your environment\n",
    "        )\n",
    "    )\n",
    "\n",
    "# Insert documents and embeddings into the index\n",
    "pc.insert_items(index_name=index_name, data=docs, embeddings=embeddings)\n"
   ]
  },
  {
   "cell_type": "code",
   "execution_count": null,
   "id": "94b9000e-d407-40ed-82dc-c6fe4f7caaa7",
   "metadata": {},
   "outputs": [],
   "source": [
    "def retrieve_query(query,k=2):\n",
    "    matching_results=index.similarity_search(query,k=k)\n",
    "    return matching_results"
   ]
  },
  {
   "cell_type": "code",
   "execution_count": null,
   "id": "26b4ed12-ef01-4238-bc5b-4c618a7070a8",
   "metadata": {},
   "outputs": [],
   "source": [
    "from langchain.chains.question_answering import load_qa_chain\n",
    "from langchain import OpenAI"
   ]
  },
  {
   "cell_type": "code",
   "execution_count": null,
   "id": "290cdeac-6e93-4648-ae65-4cdd31e33212",
   "metadata": {},
   "outputs": [],
   "source": [
    "llm=OpenAI(model_name=\"text-davinci-003\",temperature=0.5)\n",
    "chain=load_qa_chain(llm,chain_type=\"stuff\")"
   ]
  },
  {
   "cell_type": "code",
   "execution_count": null,
   "id": "9d33edd9-0c9b-4c98-af70-0c588206e7fc",
   "metadata": {},
   "outputs": [],
   "source": [
    "def retireve_answers(query):\n",
    "    doc_search=retrieve_query(query)\n",
    "    print(doc_search)\n",
    "    response=chain.run(input_documents=doc_search,question=query)\n",
    "    return response"
   ]
  },
  {
   "cell_type": "code",
   "execution_count": null,
   "id": "b0fb079e-606c-4e7e-a4c3-3eb18d47b617",
   "metadata": {},
   "outputs": [],
   "source": [
    "our_query = \"How much the agriculture target will be increased by how many crore?\"\n",
    "answer = retireve_answers(our_query)\n",
    "print(answers)"
   ]
  },
  {
   "cell_type": "code",
   "execution_count": null,
   "id": "ab2373a7-0d04-4de8-a356-d4bc42033c3f",
   "metadata": {},
   "outputs": [],
   "source": []
  }
 ],
 "metadata": {
  "kernelspec": {
   "display_name": "LLM-Test",
   "language": "python",
   "name": "llm-test"
  },
  "language_info": {
   "codemirror_mode": {
    "name": "ipython",
    "version": 3
   },
   "file_extension": ".py",
   "mimetype": "text/x-python",
   "name": "python",
   "nbconvert_exporter": "python",
   "pygments_lexer": "ipython3",
   "version": "3.11.3"
  }
 },
 "nbformat": 4,
 "nbformat_minor": 5
}
